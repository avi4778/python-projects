{
 "cells": [
  {
   "cell_type": "code",
   "execution_count": 1,
   "id": "vanilla-rogers",
   "metadata": {},
   "outputs": [],
   "source": [
    "from imdb import IMDb\n"
   ]
  },
  {
   "cell_type": "code",
   "execution_count": 2,
   "id": "communist-fashion",
   "metadata": {},
   "outputs": [
    {
     "name": "stdout",
     "output_type": "stream",
     "text": [
      "3 Idiots\n"
     ]
    }
   ],
   "source": [
    "ia = IMDb()\n",
    "movie = ia.get_movie('1187043')\n",
    "print(movie)"
   ]
  },
  {
   "cell_type": "code",
   "execution_count": 3,
   "id": "independent-denmark",
   "metadata": {},
   "outputs": [
    {
     "name": "stdout",
     "output_type": "stream",
     "text": [
      "Rajkumar Hirani\n"
     ]
    }
   ],
   "source": [
    "for director in movie['directors']:\n",
    "    print(director['name'])"
   ]
  },
  {
   "cell_type": "code",
   "execution_count": 4,
   "id": "anonymous-disability",
   "metadata": {},
   "outputs": [
    {
     "name": "stdout",
     "output_type": "stream",
     "text": [
      "['akas', 'art department', 'art directors', 'aspect ratio', 'assistant directors', 'box office', 'camera department', 'canonical title', 'cast', 'casting directors', 'certificates', 'cinematographers', 'color info', 'composers', 'costume departmen', 'costume designers', 'countries', 'country codes', 'cover url', 'director', 'directors', 'distributors', 'editorial department', 'editors', 'full-size cover url', 'genres', 'imdbID', 'kind', 'language codes', 'languages', 'localized title', 'location management', 'long imdb canonical title', 'long imdb title', 'make up department', 'miscellaneous', 'music department', 'original air date', 'other companies', 'plot', 'plot outline', 'producers', 'production companies', 'production designers', 'production managers', 'rating', 'runtimes', 'set decorators', 'smart canonical title', 'smart long imdb canonical title', 'sound department', 'sound mix', 'special effects', 'special effects companies', 'stunts', 'synopsis', 'thanks', 'title', 'top 250 rank', 'visual effects', 'votes', 'writer', 'writers', 'year']\n"
     ]
    }
   ],
   "source": [
    "print(sorted(movie.keys()))"
   ]
  },
  {
   "cell_type": "code",
   "execution_count": 5,
   "id": "comic-solid",
   "metadata": {},
   "outputs": [
    {
     "name": "stdout",
     "output_type": "stream",
     "text": [
      "['airing', 'akas', 'alternate versions', 'awards', 'connections', 'crazy credits', 'critic reviews', 'episodes', 'external reviews', 'external sites', 'faqs', 'full credits', 'goofs', 'keywords', 'list', 'locations', 'main', 'misc sites', 'news', 'official sites', 'parents guide', 'photo sites', 'plot', 'quotes', 'recommendations', 'release dates', 'release info', 'reviews', 'sound clips', 'soundtrack', 'synopsis', 'taglines', 'technical', 'trivia', 'tv schedule', 'video clips', 'vote details']\n"
     ]
    }
   ],
   "source": [
    "print(ia.get_movie_infoset())"
   ]
  },
  {
   "cell_type": "code",
   "execution_count": 6,
   "id": "controlled-bishop",
   "metadata": {},
   "outputs": [],
   "source": [
    "ia.update(movie, ['technical'])"
   ]
  },
  {
   "cell_type": "code",
   "execution_count": 7,
   "id": "asian-marriage",
   "metadata": {},
   "outputs": [
    {
     "name": "stdout",
     "output_type": "stream",
     "text": [
      "['tech']\n"
     ]
    }
   ],
   "source": [
    "print(movie.infoset2keys['technical'])"
   ]
  },
  {
   "cell_type": "code",
   "execution_count": 8,
   "id": "motivated-university",
   "metadata": {},
   "outputs": [
    {
     "name": "stdout",
     "output_type": "stream",
     "text": [
      "{'runtime': ['2 hr 50 min (170 min)'], 'sound mix': ['Dolby Digital', 'DTS'], 'color': ['Color'], 'aspect ratio': ['2.35 : 1'], 'camera': ['Arricam LT, Zeiss Master Prime and Angenieux Optimo Lenses'], 'laboratory': ['Reliance MediaWorks Ltd., Mumbai, India'], 'negative format': ['35 mm (Kodak Vision3 500T 5219)'], 'cinematographic process': ['Digital Intermediate (2K) (master format)', 'Super 35 (source format)'], 'printed film format': ['35 mm (anamorphic)', 'D-Cinema']}\n"
     ]
    }
   ],
   "source": [
    "print(movie.get('tech'))\n",
    "\n"
   ]
  },
  {
   "cell_type": "code",
   "execution_count": 9,
   "id": "universal-allergy",
   "metadata": {},
   "outputs": [
    {
     "name": "stdout",
     "output_type": "stream",
     "text": [
      "Production name:\n",
      "Vinod Chopra Productions\n"
     ]
    }
   ],
   "source": [
    "print('Production name:')\n",
    "for i in movie['production companies']:\n",
    "    print(f\"{i}\")\n",
    "    "
   ]
  },
  {
   "cell_type": "code",
   "execution_count": 10,
   "id": "dental-belfast",
   "metadata": {},
   "outputs": [
    {
     "name": "stdout",
     "output_type": "stream",
     "text": [
      "writers:\n",
      "Rajkumar Hirani\n",
      "Abhijat Joshi\n",
      "\n",
      "Vidhu Vinod Chopra\n",
      "\n",
      "Abhijat Joshi\n",
      "\n",
      "Chetan Bhagat\n"
     ]
    }
   ],
   "source": [
    "print('writers:')\n",
    "for i in movie['writers']:\n",
    "    print(i)\n",
    "    \n",
    "    "
   ]
  },
  {
   "cell_type": "code",
   "execution_count": 11,
   "id": "surrounded-yorkshire",
   "metadata": {},
   "outputs": [],
   "source": [
    "#ia.search_movie(\"3 idiots\")   \n",
    "#search movie by name\n"
   ]
  },
  {
   "cell_type": "code",
   "execution_count": 12,
   "id": "amazing-transition",
   "metadata": {},
   "outputs": [
    {
     "name": "stdout",
     "output_type": "stream",
     "text": [
      "Subir Kumar Das\n",
      "Daniel B. George\n",
      "Shreya Ghoshal\n",
      "Suraj Jagan\n",
      "Swanand Kirkire\n",
      "Chacha Mogambo\n",
      "Sonu Nigam\n",
      "Sachin K. Sanghvi\n",
      "Shaan\n",
      "Sandeep Thakur\n"
     ]
    }
   ],
   "source": [
    "for i in movie['music department']:\n",
    "    print(i)"
   ]
  },
  {
   "cell_type": "code",
   "execution_count": 13,
   "id": "attractive-speaker",
   "metadata": {},
   "outputs": [
    {
     "data": {
      "text/plain": [
       "['Three Idiots (India, English title)',\n",
       " 'Try idioty (Ukraine)',\n",
       " 'Три ідіоти (Ukraine)',\n",
       " '3 idiotai (Lithuania)',\n",
       " '3 idiotas (Argentina)']"
      ]
     },
     "execution_count": 13,
     "metadata": {},
     "output_type": "execute_result"
    }
   ],
   "source": [
    "movie['akas']"
   ]
  },
  {
   "cell_type": "code",
   "execution_count": null,
   "id": "complete-rates",
   "metadata": {},
   "outputs": [],
   "source": []
  }
 ],
 "metadata": {
  "kernelspec": {
   "display_name": "Python 3",
   "language": "python",
   "name": "python3"
  },
  "language_info": {
   "codemirror_mode": {
    "name": "ipython",
    "version": 3
   },
   "file_extension": ".py",
   "mimetype": "text/x-python",
   "name": "python",
   "nbconvert_exporter": "python",
   "pygments_lexer": "ipython3",
   "version": "3.9.5"
  }
 },
 "nbformat": 4,
 "nbformat_minor": 5
}
