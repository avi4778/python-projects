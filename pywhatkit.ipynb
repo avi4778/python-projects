{
 "cells": [
  {
   "cell_type": "code",
   "execution_count": 1,
   "id": "worldwide-processor",
   "metadata": {},
   "outputs": [],
   "source": [
    "import pywhatkit as kit"
   ]
  },
  {
   "cell_type": "code",
   "execution_count": 2,
   "id": "russian-inventory",
   "metadata": {},
   "outputs": [
    {
     "data": {
      "text/plain": [
       "'https://www.youtube.com/watch?v=JGwWNGJdvx8'"
      ]
     },
     "execution_count": 2,
     "metadata": {},
     "output_type": "execute_result"
    }
   ],
   "source": [
    "kit.playonyt(\"shape of you\")"
   ]
  },
  {
   "cell_type": "code",
   "execution_count": null,
   "id": "single-appreciation",
   "metadata": {},
   "outputs": [],
   "source": [
    "kit.sendwhatmsg(f\"+46763245565\", \"Hello there, Kya haal\", 1,31, 30, True)"
   ]
  },
  {
   "cell_type": "code",
   "execution_count": null,
   "id": "dutch-breed",
   "metadata": {},
   "outputs": [],
   "source": [
    "kit.search(\"pywhatkit\")"
   ]
  },
  {
   "cell_type": "code",
   "execution_count": null,
   "id": "golden-differential",
   "metadata": {},
   "outputs": [],
   "source": [
    "kit.info(\"beautifulsoup\")"
   ]
  },
  {
   "cell_type": "code",
   "execution_count": null,
   "id": "adjacent-somerset",
   "metadata": {},
   "outputs": [],
   "source": [
    "kit.image_to_ascii_art(r\"C:\\Users\\ancha\\OneDrive\\Pictures\\avi_pic.jpg\")"
   ]
  },
  {
   "cell_type": "code",
   "execution_count": null,
   "id": "brief-science",
   "metadata": {},
   "outputs": [],
   "source": []
  }
 ],
 "metadata": {
  "kernelspec": {
   "display_name": "Python 3",
   "language": "python",
   "name": "python3"
  },
  "language_info": {
   "codemirror_mode": {
    "name": "ipython",
    "version": 3
   },
   "file_extension": ".py",
   "mimetype": "text/x-python",
   "name": "python",
   "nbconvert_exporter": "python",
   "pygments_lexer": "ipython3",
   "version": "3.9.5"
  }
 },
 "nbformat": 4,
 "nbformat_minor": 5
}
